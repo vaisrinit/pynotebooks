{
 "cells": [
  {
   "cell_type": "code",
   "execution_count": 1,
   "id": "bd84e2d8-6871-4cf1-9e94-82a5f3da152f",
   "metadata": {},
   "outputs": [],
   "source": [
    "import numpy as np\n",
    "import pandas as pd\n",
    "import xml.etree.ElementTree as et\n",
    "from datetime import datetime\n",
    "from pathlib import Path "
   ]
  },
  {
   "cell_type": "code",
   "execution_count": 2,
   "id": "da3ff8c3-eb9b-4b31-80e4-2d9f3888c226",
   "metadata": {},
   "outputs": [],
   "source": [
    "etree=et.parse(r\"C:\\Users\\Lenovo\\Documents\\GitHub\\PatentAnalysis\\ipg221011.xml\")"
   ]
  },
  {
   "cell_type": "code",
   "execution_count": 3,
   "id": "a8b1b0a1-26a3-4a58-b354-73409ac772a3",
   "metadata": {},
   "outputs": [],
   "source": [
    "root=etree.getroot()"
   ]
  },
  {
   "cell_type": "code",
   "execution_count": 4,
   "id": "c298c368-41e3-4aef-83e3-e83d45d7658a",
   "metadata": {},
   "outputs": [],
   "source": [
    "list_of_inventions=[]\n",
    "for item in root.iter('us-bibliographic-data-grant'):\n",
    "    for x in item.iter('invention-title'):\n",
    "        list_of_inventions.append(x.text)"
   ]
  },
  {
   "cell_type": "code",
   "execution_count": 5,
   "id": "0033afe3-ad32-4ef9-8ec0-226b54ee4eea",
   "metadata": {},
   "outputs": [],
   "source": [
    "patent_and_claims=[]\n",
    "for item in root.iter('claims'):\n",
    "    list_of_claims=[]\n",
    "    for x in item.iter('claim'):\n",
    "        for y in x:\n",
    "            list_of_claims.append(y.text)\n",
    "    patent_and_claims.append(list_of_claims)"
   ]
  },
  {
   "cell_type": "code",
   "execution_count": 6,
   "id": "2f7c4b21-1ee9-4f2f-95b5-7fb028ce7688",
   "metadata": {},
   "outputs": [],
   "source": [
    "date_produced=[]\n",
    "for i in root.iter('us-patent-grant'):\n",
    "    date_produced.append(datetime.strptime(i.attrib.get('date-produced'), '%Y%m%d'))"
   ]
  },
  {
   "cell_type": "code",
   "execution_count": 7,
   "id": "f20608ae-d336-4618-addf-eb638677c517",
   "metadata": {},
   "outputs": [
    {
     "data": {
      "text/html": [
       "<div>\n",
       "<style scoped>\n",
       "    .dataframe tbody tr th:only-of-type {\n",
       "        vertical-align: middle;\n",
       "    }\n",
       "\n",
       "    .dataframe tbody tr th {\n",
       "        vertical-align: top;\n",
       "    }\n",
       "\n",
       "    .dataframe thead th {\n",
       "        text-align: right;\n",
       "    }\n",
       "</style>\n",
       "<table border=\"1\" class=\"dataframe\">\n",
       "  <thead>\n",
       "    <tr style=\"text-align: right;\">\n",
       "      <th></th>\n",
       "      <th>Date Produced</th>\n",
       "      <th>Title</th>\n",
       "      <th>Claims</th>\n",
       "    </tr>\n",
       "  </thead>\n",
       "  <tbody>\n",
       "    <tr>\n",
       "      <th>0</th>\n",
       "      <td>2022-09-21</td>\n",
       "      <td>Pet treat</td>\n",
       "      <td>[The ornamental design for a pet treat, as sho...</td>\n",
       "    </tr>\n",
       "    <tr>\n",
       "      <th>1</th>\n",
       "      <td>2022-09-21</td>\n",
       "      <td>Confection</td>\n",
       "      <td>[The ornamental design for a confection, as sh...</td>\n",
       "    </tr>\n",
       "    <tr>\n",
       "      <th>2</th>\n",
       "      <td>2022-09-21</td>\n",
       "      <td>Confection</td>\n",
       "      <td>[The ornamental design for a confection, as sh...</td>\n",
       "    </tr>\n",
       "    <tr>\n",
       "      <th>3</th>\n",
       "      <td>2022-09-20</td>\n",
       "      <td>Fashion accessory</td>\n",
       "      <td>[The ornamental design for a fashion accessory...</td>\n",
       "    </tr>\n",
       "    <tr>\n",
       "      <th>4</th>\n",
       "      <td>2022-09-21</td>\n",
       "      <td>Telescopic shoe horn</td>\n",
       "      <td>[The ornamental design for a telescopic shoe h...</td>\n",
       "    </tr>\n",
       "  </tbody>\n",
       "</table>\n",
       "</div>"
      ],
      "text/plain": [
       "  Date Produced                 Title  \\\n",
       "0    2022-09-21             Pet treat   \n",
       "1    2022-09-21            Confection   \n",
       "2    2022-09-21            Confection   \n",
       "3    2022-09-20     Fashion accessory   \n",
       "4    2022-09-21  Telescopic shoe horn   \n",
       "\n",
       "                                              Claims  \n",
       "0  [The ornamental design for a pet treat, as sho...  \n",
       "1  [The ornamental design for a confection, as sh...  \n",
       "2  [The ornamental design for a confection, as sh...  \n",
       "3  [The ornamental design for a fashion accessory...  \n",
       "4  [The ornamental design for a telescopic shoe h...  "
      ]
     },
     "execution_count": 7,
     "metadata": {},
     "output_type": "execute_result"
    }
   ],
   "source": [
    "patent_details=pd.DataFrame(data={'Date Produced':date_produced,'Title':list_of_inventions,'Claims':patent_and_claims})\n",
    "patent_details.head()"
   ]
  },
  {
   "cell_type": "code",
   "execution_count": 8,
   "id": "7f25879a-8d74-4547-a638-fac0710e727d",
   "metadata": {},
   "outputs": [
    {
     "data": {
      "text/html": [
       "<div>\n",
       "<style scoped>\n",
       "    .dataframe tbody tr th:only-of-type {\n",
       "        vertical-align: middle;\n",
       "    }\n",
       "\n",
       "    .dataframe tbody tr th {\n",
       "        vertical-align: top;\n",
       "    }\n",
       "\n",
       "    .dataframe thead th {\n",
       "        text-align: right;\n",
       "    }\n",
       "</style>\n",
       "<table border=\"1\" class=\"dataframe\">\n",
       "  <thead>\n",
       "    <tr style=\"text-align: right;\">\n",
       "      <th></th>\n",
       "      <th>Date Produced</th>\n",
       "      <th>Title</th>\n",
       "      <th>Claims</th>\n",
       "    </tr>\n",
       "  </thead>\n",
       "  <tbody>\n",
       "    <tr>\n",
       "      <th>0</th>\n",
       "      <td>2022-09-21</td>\n",
       "      <td>Pet treat</td>\n",
       "      <td>[The ornamental design for a pet treat, as sho...</td>\n",
       "    </tr>\n",
       "    <tr>\n",
       "      <th>1</th>\n",
       "      <td>2022-09-21</td>\n",
       "      <td>Confection</td>\n",
       "      <td>[The ornamental design for a confection, as sh...</td>\n",
       "    </tr>\n",
       "    <tr>\n",
       "      <th>2</th>\n",
       "      <td>2022-09-20</td>\n",
       "      <td>Fashion accessory</td>\n",
       "      <td>[The ornamental design for a fashion accessory...</td>\n",
       "    </tr>\n",
       "    <tr>\n",
       "      <th>3</th>\n",
       "      <td>2022-09-21</td>\n",
       "      <td>Telescopic shoe horn</td>\n",
       "      <td>[The ornamental design for a telescopic shoe h...</td>\n",
       "    </tr>\n",
       "    <tr>\n",
       "      <th>4</th>\n",
       "      <td>2022-09-21</td>\n",
       "      <td>Underwear</td>\n",
       "      <td>[The ornamental design for underwear, substant...</td>\n",
       "    </tr>\n",
       "  </tbody>\n",
       "</table>\n",
       "</div>"
      ],
      "text/plain": [
       "  Date Produced                 Title  \\\n",
       "0    2022-09-21             Pet treat   \n",
       "1    2022-09-21            Confection   \n",
       "2    2022-09-20     Fashion accessory   \n",
       "3    2022-09-21  Telescopic shoe horn   \n",
       "4    2022-09-21             Underwear   \n",
       "\n",
       "                                              Claims  \n",
       "0  [The ornamental design for a pet treat, as sho...  \n",
       "1  [The ornamental design for a confection, as sh...  \n",
       "2  [The ornamental design for a fashion accessory...  \n",
       "3  [The ornamental design for a telescopic shoe h...  \n",
       "4  [The ornamental design for underwear, substant...  "
      ]
     },
     "execution_count": 8,
     "metadata": {},
     "output_type": "execute_result"
    }
   ],
   "source": [
    "cleaned_patent_details=patent_details.drop_duplicates(subset='Title',inplace=False)\n",
    "cleaned_patent_details = cleaned_patent_details.reset_index(drop=True)\n",
    "cleaned_patent_details.head()"
   ]
  },
  {
   "cell_type": "code",
   "execution_count": 9,
   "id": "1188061f-50f0-4c3d-a042-b0aae74cc94a",
   "metadata": {},
   "outputs": [
    {
     "data": {
      "text/html": [
       "<div>\n",
       "<style scoped>\n",
       "    .dataframe tbody tr th:only-of-type {\n",
       "        vertical-align: middle;\n",
       "    }\n",
       "\n",
       "    .dataframe tbody tr th {\n",
       "        vertical-align: top;\n",
       "    }\n",
       "\n",
       "    .dataframe thead th {\n",
       "        text-align: right;\n",
       "    }\n",
       "</style>\n",
       "<table border=\"1\" class=\"dataframe\">\n",
       "  <thead>\n",
       "    <tr style=\"text-align: right;\">\n",
       "      <th></th>\n",
       "      <th>Title</th>\n",
       "      <th>Claims</th>\n",
       "    </tr>\n",
       "    <tr>\n",
       "      <th>Date Produced</th>\n",
       "      <th></th>\n",
       "      <th></th>\n",
       "    </tr>\n",
       "  </thead>\n",
       "  <tbody>\n",
       "    <tr>\n",
       "      <th>2022-09-20</th>\n",
       "      <td>146</td>\n",
       "      <td>147</td>\n",
       "    </tr>\n",
       "    <tr>\n",
       "      <th>2022-09-21</th>\n",
       "      <td>476</td>\n",
       "      <td>476</td>\n",
       "    </tr>\n",
       "    <tr>\n",
       "      <th>2022-09-22</th>\n",
       "      <td>2</td>\n",
       "      <td>2</td>\n",
       "    </tr>\n",
       "  </tbody>\n",
       "</table>\n",
       "</div>"
      ],
      "text/plain": [
       "               Title  Claims\n",
       "Date Produced               \n",
       "2022-09-20       146     147\n",
       "2022-09-21       476     476\n",
       "2022-09-22         2       2"
      ]
     },
     "execution_count": 9,
     "metadata": {},
     "output_type": "execute_result"
    }
   ],
   "source": [
    "cleaned_patent_details.groupby('Date Produced').count()"
   ]
  },
  {
   "cell_type": "code",
   "execution_count": 10,
   "id": "12d37bce-c95d-4ee9-9113-1e177b64a59f",
   "metadata": {},
   "outputs": [],
   "source": [
    "filepath = Path('out.csv')  \n",
    "filepath.parent.mkdir(parents=True, exist_ok=True)  \n",
    "cleaned_patent_details.to_csv(filepath)"
   ]
  }
 ],
 "metadata": {
  "kernelspec": {
   "display_name": "Python 3 (ipykernel)",
   "language": "python",
   "name": "python3"
  },
  "language_info": {
   "codemirror_mode": {
    "name": "ipython",
    "version": 3
   },
   "file_extension": ".py",
   "mimetype": "text/x-python",
   "name": "python",
   "nbconvert_exporter": "python",
   "pygments_lexer": "ipython3",
   "version": "3.9.12"
  }
 },
 "nbformat": 4,
 "nbformat_minor": 5
}
