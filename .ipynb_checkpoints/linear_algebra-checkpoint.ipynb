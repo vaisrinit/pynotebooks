{
 "cells": [
  {
   "cell_type": "code",
   "execution_count": 9,
   "id": "b9cd4ef2",
   "metadata": {},
   "outputs": [],
   "source": [
    "import numpy as np"
   ]
  },
  {
   "cell_type": "code",
   "execution_count": 14,
   "id": "8667fa3f-efb8-4bc5-a1cf-7a38c7440823",
   "metadata": {},
   "outputs": [],
   "source": [
    "list=[1.0,2.0,3.0]\n",
    "sample_array=np.array(list)"
   ]
  },
  {
   "cell_type": "code",
   "execution_count": 15,
   "id": "7430fbff-ddb7-4e48-9114-3c114244fb7d",
   "metadata": {},
   "outputs": [
    {
     "name": "stdout",
     "output_type": "stream",
     "text": [
      "[1. 2. 3.]\n",
      "(3,)\n",
      "float64\n"
     ]
    }
   ],
   "source": [
    "print(sample_array)\n",
    "print(sample_array.shape)\n",
    "print(sample_array.dtype)"
   ]
  },
  {
   "cell_type": "code",
   "execution_count": 13,
   "id": "c0eb832b-ff81-4952-9e2b-a5becaa3aada",
   "metadata": {},
   "outputs": [
    {
     "name": "stdout",
     "output_type": "stream",
     "text": [
      "[[0.00000000e+000 0.00000000e+000 0.00000000e+000]\n",
      " [0.00000000e+000 0.00000000e+000 8.39911598e-321]\n",
      " [2.33646845e-307 4.22792892e-307 3.56044072e-307]]\n"
     ]
    }
   ],
   "source": [
    "empty_array=np.empty([3,3])\n",
    "print(empty_array)"
   ]
  },
  {
   "cell_type": "code",
   "execution_count": 16,
   "id": "c30e4f66-7a51-437f-8428-8578cc32bd86",
   "metadata": {},
   "outputs": [
    {
     "name": "stdout",
     "output_type": "stream",
     "text": [
      "[[0. 0. 0.]\n",
      " [0. 0. 0.]\n",
      " [0. 0. 0.]]\n"
     ]
    }
   ],
   "source": [
    "zero_array=np.zeros([3,3])\n",
    "print(zero_array)"
   ]
  },
  {
   "cell_type": "code",
   "execution_count": 17,
   "id": "675d637b-47d7-413d-8bc9-1f859a966de3",
   "metadata": {},
   "outputs": [
    {
     "name": "stdout",
     "output_type": "stream",
     "text": [
      "[[1. 1. 1.]\n",
      " [1. 1. 1.]\n",
      " [1. 1. 1.]]\n"
     ]
    }
   ],
   "source": [
    "ones_array=np.ones([3,3])\n",
    "print(ones_array)"
   ]
  },
  {
   "cell_type": "code",
   "execution_count": 23,
   "id": "01494b76-a4f3-4c3d-9581-b6f960d2c51a",
   "metadata": {},
   "outputs": [
    {
     "name": "stdout",
     "output_type": "stream",
     "text": [
      "vstack\n",
      " [[1 2 3]\n",
      " [4 5 6]]\n",
      "hstack\n",
      " [[1 2 3]\n",
      " [4 5 6]]\n"
     ]
    }
   ],
   "source": [
    "a=np.array([1,2,3])\n",
    "b=np.array([4,5,6])\n",
    "c=np.vstack((a,b))\n",
    "d=np.hstack((a,b))\n",
    "print('vstack\\n',c)\n",
    "print('hstack\\n',c)"
   ]
  },
  {
   "cell_type": "code",
   "execution_count": 24,
   "id": "aa9efc83-93ce-4e66-bb15-bbac84066864",
   "metadata": {},
   "outputs": [
    {
     "name": "stdout",
     "output_type": "stream",
     "text": [
      "[[1. 0. 0. 0. 0.]\n",
      " [0. 1. 0. 0. 0.]\n",
      " [0. 0. 1. 0. 0.]\n",
      " [0. 0. 0. 1. 0.]\n",
      " [0. 0. 0. 0. 1.]]\n"
     ]
    }
   ],
   "source": [
    "eye=np.eye(5)\n",
    "print(eye)"
   ]
  },
  {
   "cell_type": "code",
   "execution_count": 26,
   "id": "432a34b8-982f-4a3c-8aba-fe94f0417fc1",
   "metadata": {},
   "outputs": [
    {
     "name": "stdout",
     "output_type": "stream",
     "text": [
      "[[5 5 5]\n",
      " [5 5 5]\n",
      " [5 5 5]]\n"
     ]
    }
   ],
   "source": [
    "full=np.full([3,3],5)\n",
    "print(full)"
   ]
  },
  {
   "cell_type": "code",
   "execution_count": null,
   "id": "c7c680be-b474-4a2e-9d02-009b34876448",
   "metadata": {},
   "outputs": [],
   "source": [
    "identity_array=np.identity(5)\n",
    "print(identity_array)"
   ]
  }
 ],
 "metadata": {
  "kernelspec": {
   "display_name": "Python 3 (ipykernel)",
   "language": "python",
   "name": "python3"
  },
  "language_info": {
   "codemirror_mode": {
    "name": "ipython",
    "version": 3
   },
   "file_extension": ".py",
   "mimetype": "text/x-python",
   "name": "python",
   "nbconvert_exporter": "python",
   "pygments_lexer": "ipython3",
   "version": "3.9.12"
  }
 },
 "nbformat": 4,
 "nbformat_minor": 5
}
