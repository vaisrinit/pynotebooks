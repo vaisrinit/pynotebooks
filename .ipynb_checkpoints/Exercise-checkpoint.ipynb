{
 "cells": [
  {
   "cell_type": "code",
   "execution_count": 1,
   "id": "4112d768-829a-48e6-aeb5-3aac2b479baa",
   "metadata": {},
   "outputs": [],
   "source": [
    "import numpy as np\n",
    "import copy"
   ]
  },
  {
   "cell_type": "code",
   "execution_count": 22,
   "id": "8896d270-85d4-41e0-987f-bc45605293b0",
   "metadata": {},
   "outputs": [
    {
     "name": "stdout",
     "output_type": "stream",
     "text": [
      "[[1 2 3]\n",
      " [4 5 6]\n",
      " [7 8 9]]\n"
     ]
    }
   ],
   "source": [
    "orig_list=[[1,2,3],[4,5,6],[7,8,9]]\n",
    "orig_matrix=np.array(orig_list)\n",
    "print(orig_matrix)"
   ]
  },
  {
   "cell_type": "code",
   "execution_count": 23,
   "id": "a2c1bc5a-cc7a-4f13-9b03-dabe54b02e40",
   "metadata": {},
   "outputs": [
    {
     "name": "stdout",
     "output_type": "stream",
     "text": [
      "<class 'numpy.ndarray'>\n"
     ]
    }
   ],
   "source": [
    "print(type(orig_matrix))"
   ]
  },
  {
   "cell_type": "code",
   "execution_count": 24,
   "id": "d4953457-d118-4b25-af2a-2ec87bf582d4",
   "metadata": {},
   "outputs": [],
   "source": [
    "temp=copy.deepcopy(orig_matrix[0])"
   ]
  },
  {
   "cell_type": "code",
   "execution_count": 25,
   "id": "a2c32feb-18de-486d-84da-50f1db46a3d5",
   "metadata": {},
   "outputs": [
    {
     "name": "stdout",
     "output_type": "stream",
     "text": [
      "[1 2 3]\n"
     ]
    }
   ],
   "source": [
    "print(temp)"
   ]
  },
  {
   "cell_type": "code",
   "execution_count": 26,
   "id": "d002d80c-e00f-42fe-89fc-92645a38e460",
   "metadata": {},
   "outputs": [],
   "source": [
    "orig_matrix[0]=orig_matrix[1]"
   ]
  },
  {
   "cell_type": "code",
   "execution_count": 27,
   "id": "b341e22c-acfe-4fe0-b8c3-b0bf4e7fa578",
   "metadata": {},
   "outputs": [
    {
     "name": "stdout",
     "output_type": "stream",
     "text": [
      "[[4 5 6]\n",
      " [4 5 6]\n",
      " [7 8 9]]\n"
     ]
    }
   ],
   "source": [
    "print(orig_matrix)"
   ]
  },
  {
   "cell_type": "code",
   "execution_count": 28,
   "id": "c68ff9fb-d2bf-4f10-bacd-2f18d408e696",
   "metadata": {},
   "outputs": [],
   "source": [
    "orig_matrix[1]=temp"
   ]
  },
  {
   "cell_type": "code",
   "execution_count": 29,
   "id": "d7bbbecd-579a-4169-b172-d3db3d03090c",
   "metadata": {},
   "outputs": [
    {
     "name": "stdout",
     "output_type": "stream",
     "text": [
      "[[4 5 6]\n",
      " [1 2 3]\n",
      " [7 8 9]]\n"
     ]
    }
   ],
   "source": [
    "print(orig_matrix)"
   ]
  },
  {
   "cell_type": "code",
   "execution_count": 30,
   "id": "911ab50a-eabd-4680-b08f-f3340412d7d0",
   "metadata": {},
   "outputs": [
    {
     "name": "stdout",
     "output_type": "stream",
     "text": [
      "[[1 2 3]\n",
      " [4 5 6]\n",
      " [7 8 9]]\n"
     ]
    }
   ],
   "source": [
    "orig_matrix[0],orig_matrix[1]=copy.copy(orig_matrix[1]),copy.copy(orig_matrix[0])\n",
    "print(orig_matrix)"
   ]
  },
  {
   "cell_type": "code",
   "execution_count": 39,
   "id": "e0eb6e66-6dde-49ab-81b6-0d9c28f340a3",
   "metadata": {},
   "outputs": [
    {
     "name": "stdout",
     "output_type": "stream",
     "text": [
      "[[ 1.  1.  1.  6.]\n",
      " [ 1. -1.  1.  2.]\n",
      " [ 2. -1.  3.  9.]]\n"
     ]
    }
   ],
   "source": [
    "orig_list=[[1.0,1.0,1.0,6.0],[1.0,-1.0,1.0,2.0],[2.0,-1.0,3.0,9.0]]\n",
    "orig_matrix=np.array(orig_list)\n",
    "print(orig_matrix)"
   ]
  },
  {
   "cell_type": "code",
   "execution_count": 40,
   "id": "0f6fb5db-2f8d-41ee-a19f-0dbf9213e469",
   "metadata": {},
   "outputs": [
    {
     "name": "stdout",
     "output_type": "stream",
     "text": [
      "(3, 4)\n"
     ]
    }
   ],
   "source": [
    "print(orig_matrix.shape)\n",
    "identity=np.identity(orig_matrix.shape[0])"
   ]
  },
  {
   "cell_type": "code",
   "execution_count": 41,
   "id": "b9e7171d-2f49-4ef2-a8df-d8754b5a3477",
   "metadata": {},
   "outputs": [],
   "source": [
    "n=orig_matrix.shape[0]\n",
    "for j in range(n-1):\n",
    "    for i in range(j+1,n):\n",
    "        if(orig_matrix[j][j]!=0):\n",
    "            m=orig_matrix[i][j]/orig_matrix[j][j]\n",
    "            identity[i][j]=m\n",
    "            orig_matrix[i]=orig_matrix[i]-m*orig_matrix[j]"
   ]
  },
  {
   "cell_type": "code",
   "execution_count": 42,
   "id": "5768b55a-b227-4f51-9e49-2ae4102287e8",
   "metadata": {},
   "outputs": [
    {
     "name": "stdout",
     "output_type": "stream",
     "text": [
      "L= [[1.  0.  0. ]\n",
      " [1.  1.  0. ]\n",
      " [2.  1.5 1. ]]\n",
      "U= [[ 1.  1.  1.  6.]\n",
      " [ 0. -2.  0. -4.]\n",
      " [ 0.  0.  1.  3.]]\n"
     ]
    }
   ],
   "source": [
    "print('L=',identity)\n",
    "print('U=',orig_matrix)"
   ]
  },
  {
   "cell_type": "code",
   "execution_count": 43,
   "id": "7efefd48-baf8-44f5-bc1a-16acd39d18ba",
   "metadata": {},
   "outputs": [
    {
     "name": "stdout",
     "output_type": "stream",
     "text": [
      "[[ 1.  1.  1.  6.]\n",
      " [ 1. -1.  1.  2.]\n",
      " [ 2. -1.  3.  9.]]\n"
     ]
    }
   ],
   "source": [
    "print(np.dot(identity,orig_matrix))"
   ]
  },
  {
   "cell_type": "code",
   "execution_count": 36,
   "id": "e11cc7c3-8abf-44ad-9293-87164fcea715",
   "metadata": {},
   "outputs": [
    {
     "name": "stdout",
     "output_type": "stream",
     "text": [
      "[[ 1.  1.  1.]\n",
      " [ 3.  1. -2.]\n",
      " [ 2.  4.  7.]]\n"
     ]
    }
   ],
   "source": [
    "orig_list=[[1.0,1.0,1.0],[3.0,1.0,-2.0],[2.0,4.0,7.0]]\n",
    "orig_matrix=np.array(orig_list)\n",
    "print(orig_matrix)"
   ]
  },
  {
   "cell_type": "code",
   "execution_count": 37,
   "id": "cd2b684f-3a66-4cab-b06f-2d949eca61e1",
   "metadata": {},
   "outputs": [],
   "source": [
    "b_matrix=np.array([[-3],[-2],[7]])"
   ]
  },
  {
   "cell_type": "code",
   "execution_count": 38,
   "id": "459afe4c-b772-4527-a5b7-8ee75708f8d0",
   "metadata": {},
   "outputs": [
    {
     "name": "stdout",
     "output_type": "stream",
     "text": [
      "[[ 1.67143904e+16]\n",
      " [-2.78573173e+16]\n",
      " [ 1.11429269e+16]]\n"
     ]
    }
   ],
   "source": [
    "print(np.dot(np.linalg.inv(orig_matrix),b_matrix))"
   ]
  },
  {
   "cell_type": "code",
   "execution_count": 60,
   "id": "b4d5f3a6-20d9-459c-b2c7-ae6181439c8f",
   "metadata": {},
   "outputs": [],
   "source": [
    "a=orig_matrix[:,:3]"
   ]
  },
  {
   "cell_type": "code",
   "execution_count": 61,
   "id": "5a342718-7b6c-472e-bea8-893ed766e261",
   "metadata": {},
   "outputs": [],
   "source": [
    "b=orig_matrix[:,-1:]"
   ]
  },
  {
   "cell_type": "code",
   "execution_count": 74,
   "id": "2d69f406-910f-4f34-a4c4-d6b2c5449d0b",
   "metadata": {},
   "outputs": [
    {
     "name": "stdout",
     "output_type": "stream",
     "text": [
      "1.0x+ 1.0y+ 1.0z= 6.0\n",
      "0.0x+ -2.0y+ 0.0z= -4.0\n",
      "0.0x+ 0.0y+ 1.0z= 3.0\n"
     ]
    }
   ],
   "source": [
    "for i in range(a.shape[0]):\n",
    "    for idx,j in enumerate(a[i]):\n",
    "        if idx==0:\n",
    "            print(j,end='x+ ')\n",
    "        elif idx==1:\n",
    "            print(j,end='y+ ')\n",
    "        elif idx==2:\n",
    "            print(j,end='z= ')\n",
    "    print(b[i][0])"
   ]
  },
  {
   "cell_type": "code",
   "execution_count": 2,
   "id": "7d79a45e-3652-485c-8dfb-13ca0c43bb0e",
   "metadata": {},
   "outputs": [
    {
     "name": "stdout",
     "output_type": "stream",
     "text": [
      "A->B\n",
      "A->C\n",
      "B->C\n",
      "A->B\n",
      "C->A\n",
      "C->B\n",
      "A->B\n",
      "A->C\n",
      "B->C\n",
      "B->A\n",
      "C->A\n",
      "B->C\n",
      "A->B\n",
      "A->C\n",
      "B->C\n"
     ]
    }
   ],
   "source": [
    "def towers_of_hanoi(n,s,d,a):\n",
    "    if n==0:\n",
    "        return\n",
    "    else:\n",
    "        towers_of_hanoi(n-1,s,a,d)\n",
    "        print(s+'->'+d)\n",
    "        towers_of_hanoi(n-1,a,d,s)\n",
    "towers_of_hanoi(4,'A','C','B')"
   ]
  },
  {
   "cell_type": "code",
   "execution_count": 2,
   "id": "274e6c5a-68d1-46ac-a809-e20f5cceb552",
   "metadata": {},
   "outputs": [
    {
     "name": "stdout",
     "output_type": "stream",
     "text": [
      "[10. 20. 30. 40. 50. 60.]\n"
     ]
    }
   ],
   "source": [
    "loaded_array = np.loadtxt(\"sample.txt\")\n",
    "print (loaded_array)"
   ]
  },
  {
   "cell_type": "code",
   "execution_count": null,
   "id": "2812e8c1-fcc2-41c1-9f8d-57fabd542947",
   "metadata": {},
   "outputs": [],
   "source": [
    "print(len(loaded_array))"
   ]
  }
 ],
 "metadata": {
  "kernelspec": {
   "display_name": "Python 3 (ipykernel)",
   "language": "python",
   "name": "python3"
  },
  "language_info": {
   "codemirror_mode": {
    "name": "ipython",
    "version": 3
   },
   "file_extension": ".py",
   "mimetype": "text/x-python",
   "name": "python",
   "nbconvert_exporter": "python",
   "pygments_lexer": "ipython3",
   "version": "3.9.12"
  }
 },
 "nbformat": 4,
 "nbformat_minor": 5
}
