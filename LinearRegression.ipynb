{
 "cells": [
  {
   "cell_type": "code",
   "execution_count": 2,
   "id": "8be2fc31-69be-4da9-a5e2-3a0628f3537f",
   "metadata": {},
   "outputs": [],
   "source": [
    "import sklearn.base\n",
    "import sklearn.calibration\n",
    "import sklearn.cluster\n",
    "import sklearn.compose\n",
    "import sklearn.conftest\n",
    "import sklearn.covariance\n",
    "import sklearn.cross_decomposition\n",
    "import sklearn.datasets\n",
    "import sklearn.decomposition\n",
    "import sklearn.discriminant_analysis\n",
    "import sklearn.dummy\n",
    "import sklearn.ensemble\n",
    "import sklearn.exceptions\n",
    "import sklearn.experimental\n",
    "import sklearn.externals\n",
    "import sklearn.feature_extraction\n",
    "import sklearn.feature_selection\n",
    "import sklearn.gaussian_process\n",
    "import sklearn.impute\n",
    "import sklearn.inspection\n",
    "import sklearn.isotonic\n",
    "import sklearn.kernel_approximation\n",
    "import sklearn.kernel_ridge\n",
    "import sklearn.linear_model as linear_model\n",
    "import sklearn.manifold\n",
    "import sklearn.metrics\n",
    "import sklearn.mixture\n",
    "import sklearn.model_selection\n",
    "import sklearn.multiclass\n",
    "import sklearn.multioutput\n",
    "import sklearn.naive_bayes\n",
    "import sklearn.neighbors\n",
    "import sklearn.neural_network\n",
    "import sklearn.pipeline\n",
    "import sklearn.preprocessing\n",
    "import sklearn.random_projection\n",
    "import sklearn.semi_supervised\n",
    "import sklearn.setup\n",
    "import sklearn.svm\n",
    "import sklearn.tests\n",
    "import sklearn.tree\n",
    "import sklearn.utils"
   ]
  },
  {
   "cell_type": "code",
   "execution_count": null,
   "id": "9fd947e8-a11c-411a-9cf3-0713937a62eb",
   "metadata": {},
   "outputs": [],
   "source": [
    "linear_model."
   ]
  }
 ],
 "metadata": {
  "kernelspec": {
   "display_name": "Python 3 (ipykernel)",
   "language": "python",
   "name": "python3"
  },
  "language_info": {
   "codemirror_mode": {
    "name": "ipython",
    "version": 3
   },
   "file_extension": ".py",
   "mimetype": "text/x-python",
   "name": "python",
   "nbconvert_exporter": "python",
   "pygments_lexer": "ipython3",
   "version": "3.9.12"
  }
 },
 "nbformat": 4,
 "nbformat_minor": 5
}
