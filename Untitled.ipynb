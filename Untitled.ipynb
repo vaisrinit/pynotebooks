{
 "cells": [
  {
   "cell_type": "code",
   "execution_count": 3,
   "id": "acedbb02-eb26-48ec-9af4-b16b9a54d6da",
   "metadata": {},
   "outputs": [],
   "source": [
    "import numpy as np\n",
    "from sklearn.linear_model import LinearRegression\n",
    "from sklearn.preprocessing import StandardScaler"
   ]
  },
  {
   "cell_type": "code",
   "execution_count": 4,
   "id": "93aa5bf3-c4f9-4355-aaea-6862add462ee",
   "metadata": {},
   "outputs": [],
   "source": [
    "true_b = 1\n",
    "true_w = 2\n",
    "N = 100\n",
    "np.random.seed(42)\n",
    "x = np.random.rand(N, 1)\n",
    "epsilon = (.1 * np.random.randn(N, 1))\n",
    "y = true_b + true_w * x + epsilon"
   ]
  },
  {
   "cell_type": "code",
   "execution_count": 5,
   "id": "ecfc1343-ee30-404c-bd43-67ac0cb363be",
   "metadata": {},
   "outputs": [],
   "source": [
    "idx = np.arange(N)\n",
    "np.random.shuffle(idx)\n",
    "train_idx = idx[:int(N*.8)]\n",
    "val_idx = idx[int(N*.8):]\n",
    "x_train, y_train = x[train_idx], y[train_idx]\n",
    "x_val, y_val = x[val_idx], y[val_idx]"
   ]
  },
  {
   "cell_type": "code",
   "execution_count": 6,
   "id": "c83bfb44-0a4d-47f8-940e-eff05d7e6d66",
   "metadata": {},
   "outputs": [],
   "source": [
    "np.random.seed(42)\n",
    "b = np.random.randn(1)\n",
    "w = np.random.randn(1)"
   ]
  },
  {
   "cell_type": "code",
   "execution_count": 7,
   "id": "bddfe847-fd4b-4afb-85e1-6fd4a14b6e2c",
   "metadata": {},
   "outputs": [
    {
     "name": "stdout",
     "output_type": "stream",
     "text": [
      "[0.49671415] [-0.1382643]\n"
     ]
    }
   ],
   "source": [
    "print(b, w)"
   ]
  },
  {
   "cell_type": "code",
   "execution_count": 8,
   "id": "a22a5fbd-1b15-464a-9b4e-00bf52590b1c",
   "metadata": {},
   "outputs": [],
   "source": [
    "yhat = b + w * x_train"
   ]
  },
  {
   "cell_type": "code",
   "execution_count": 10,
   "id": "508ebc74-5125-44b3-abd3-47581461da5e",
   "metadata": {},
   "outputs": [
    {
     "name": "stdout",
     "output_type": "stream",
     "text": [
      "2.7421577700550976\n"
     ]
    }
   ],
   "source": [
    "error = (yhat - y_train)\n",
    "loss = (error ** 2).mean()\n",
    "print(loss)"
   ]
  },
  {
   "cell_type": "code",
   "execution_count": null,
   "id": "b5c60e14-7f5b-4fca-b2be-5e091e138332",
   "metadata": {},
   "outputs": [],
   "source": []
  }
 ],
 "metadata": {
  "kernelspec": {
   "display_name": "Python 3 (ipykernel)",
   "language": "python",
   "name": "python3"
  },
  "language_info": {
   "codemirror_mode": {
    "name": "ipython",
    "version": 3
   },
   "file_extension": ".py",
   "mimetype": "text/x-python",
   "name": "python",
   "nbconvert_exporter": "python",
   "pygments_lexer": "ipython3",
   "version": "3.9.12"
  }
 },
 "nbformat": 4,
 "nbformat_minor": 5
}
